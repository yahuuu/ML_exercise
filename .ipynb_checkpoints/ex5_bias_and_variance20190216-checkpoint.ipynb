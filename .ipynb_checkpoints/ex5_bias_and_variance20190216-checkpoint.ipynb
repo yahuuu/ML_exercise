{
 "cells": [
  {
   "cell_type": "markdown",
   "metadata": {},
   "source": [
    "# 了解算法性能中的Variance and Bias"
   ]
  },
  {
   "cell_type": "raw",
   "metadata": {},
   "source": [
    "利用水库水位变化预测大坝出水量"
   ]
  },
  {
   "cell_type": "code",
   "execution_count": 29,
   "metadata": {},
   "outputs": [],
   "source": [
    "import numpy as np\n",
    "import matplotlib.pyplot as plt\n",
    "from scipy.io import loadmat\n",
    "from scipy.optimize import minimize"
   ]
  },
  {
   "cell_type": "code",
   "execution_count": 30,
   "metadata": {},
   "outputs": [
    {
     "data": {
      "text/plain": [
       "dict_keys(['__header__', '__version__', '__globals__', 'X', 'y', 'Xtest', 'ytest', 'Xval', 'yval'])"
      ]
     },
     "execution_count": 30,
     "metadata": {},
     "output_type": "execute_result"
    }
   ],
   "source": [
    "path = '/home/alex/test/NG_exercise/ex4_variance_vs_bias/ex5data1.mat'\n",
    "data = loadmat(path)\n",
    "data.keys()"
   ]
  },
  {
   "cell_type": "code",
   "execution_count": 31,
   "metadata": {
    "scrolled": false
   },
   "outputs": [
    {
     "data": {
      "text/plain": [
       "{'__header__': b'MATLAB 5.0 MAT-file, Platform: GLNXA64, Created on: Fri Nov  4 22:27:26 2011',\n",
       " '__version__': '1.0',\n",
       " '__globals__': [],\n",
       " 'X': array([[-15.93675813],\n",
       "        [-29.15297922],\n",
       "        [ 36.18954863],\n",
       "        [ 37.49218733],\n",
       "        [-48.05882945],\n",
       "        [ -8.94145794],\n",
       "        [ 15.30779289],\n",
       "        [-34.70626581],\n",
       "        [  1.38915437],\n",
       "        [-44.38375985],\n",
       "        [  7.01350208],\n",
       "        [ 22.76274892]]),\n",
       " 'y': array([[ 2.13431051],\n",
       "        [ 1.17325668],\n",
       "        [34.35910918],\n",
       "        [36.83795516],\n",
       "        [ 2.80896507],\n",
       "        [ 2.12107248],\n",
       "        [14.71026831],\n",
       "        [ 2.61418439],\n",
       "        [ 3.74017167],\n",
       "        [ 3.73169131],\n",
       "        [ 7.62765885],\n",
       "        [22.7524283 ]]),\n",
       " 'Xtest': array([[-33.31800399],\n",
       "        [-37.91216403],\n",
       "        [-51.20693795],\n",
       "        [ -6.13259585],\n",
       "        [ 21.26118327],\n",
       "        [-40.31952949],\n",
       "        [-14.54153167],\n",
       "        [ 32.55976024],\n",
       "        [ 13.39343255],\n",
       "        [ 44.20988595],\n",
       "        [ -1.14267768],\n",
       "        [-12.76686065],\n",
       "        [ 34.05450539],\n",
       "        [ 39.22350028],\n",
       "        [  1.97449674],\n",
       "        [ 29.6217551 ],\n",
       "        [-23.66962971],\n",
       "        [ -9.01180139],\n",
       "        [-55.94057091],\n",
       "        [-35.70859752],\n",
       "        [  9.51020533]]),\n",
       " 'ytest': array([[ 3.31688953],\n",
       "        [ 5.39768952],\n",
       "        [ 0.13042984],\n",
       "        [ 6.1925982 ],\n",
       "        [17.08848712],\n",
       "        [ 0.79950805],\n",
       "        [ 2.82479183],\n",
       "        [28.62123334],\n",
       "        [17.04639081],\n",
       "        [55.38437334],\n",
       "        [ 4.07936733],\n",
       "        [ 8.27039793],\n",
       "        [31.32355102],\n",
       "        [39.15906103],\n",
       "        [ 8.08727989],\n",
       "        [24.11134389],\n",
       "        [ 2.4773548 ],\n",
       "        [ 6.56606472],\n",
       "        [ 6.0380888 ],\n",
       "        [ 4.69273956],\n",
       "        [10.83004606]]),\n",
       " 'Xval': array([[-16.74653578],\n",
       "        [-14.57747075],\n",
       "        [ 34.51575866],\n",
       "        [-47.01007574],\n",
       "        [ 36.97511905],\n",
       "        [-40.68611002],\n",
       "        [ -4.47201098],\n",
       "        [ 26.53363489],\n",
       "        [-42.7976831 ],\n",
       "        [ 25.37409938],\n",
       "        [-31.10955398],\n",
       "        [ 27.31176864],\n",
       "        [ -3.26386201],\n",
       "        [ -1.81827649],\n",
       "        [-40.7196624 ],\n",
       "        [-50.01324365],\n",
       "        [-17.41177155],\n",
       "        [  3.5881937 ],\n",
       "        [  7.08548026],\n",
       "        [ 46.28236902],\n",
       "        [ 14.61228909]]),\n",
       " 'yval': array([[ 4.17020201e+00],\n",
       "        [ 4.06726280e+00],\n",
       "        [ 3.18730676e+01],\n",
       "        [ 1.06236562e+01],\n",
       "        [ 3.18360213e+01],\n",
       "        [ 4.95936972e+00],\n",
       "        [ 4.45159880e+00],\n",
       "        [ 2.22763185e+01],\n",
       "        [-4.38738274e-05],\n",
       "        [ 2.05038016e+01],\n",
       "        [ 3.85834476e+00],\n",
       "        [ 1.93650529e+01],\n",
       "        [ 4.88376281e+00],\n",
       "        [ 1.10971588e+01],\n",
       "        [ 7.46170827e+00],\n",
       "        [ 1.47693464e+00],\n",
       "        [ 2.71916388e+00],\n",
       "        [ 1.09269007e+01],\n",
       "        [ 8.34871235e+00],\n",
       "        [ 5.27819280e+01],\n",
       "        [ 1.33573396e+01]])}"
      ]
     },
     "execution_count": 31,
     "metadata": {},
     "output_type": "execute_result"
    }
   ],
   "source": [
    "data"
   ]
  },
  {
   "cell_type": "code",
   "execution_count": 32,
   "metadata": {},
   "outputs": [],
   "source": [
    "X_train, y_train = data['X'], data['y']"
   ]
  },
  {
   "cell_type": "code",
   "execution_count": 33,
   "metadata": {},
   "outputs": [
    {
     "data": {
      "text/plain": [
       "((12, 1), (12, 1))"
      ]
     },
     "execution_count": 33,
     "metadata": {},
     "output_type": "execute_result"
    }
   ],
   "source": [
    "(X_train.shape, y_train.shape)"
   ]
  },
  {
   "cell_type": "code",
   "execution_count": 34,
   "metadata": {},
   "outputs": [],
   "source": [
    "X_val, y_val = data['Xval'], data['yval']"
   ]
  },
  {
   "cell_type": "code",
   "execution_count": 35,
   "metadata": {},
   "outputs": [
    {
     "data": {
      "text/plain": [
       "((21, 1), (21, 1))"
      ]
     },
     "execution_count": 35,
     "metadata": {},
     "output_type": "execute_result"
    }
   ],
   "source": [
    "(X_val.shape, y_val.shape)"
   ]
  },
  {
   "cell_type": "code",
   "execution_count": 36,
   "metadata": {},
   "outputs": [],
   "source": [
    "X_test, y_test = data['Xtest'], data['ytest']"
   ]
  },
  {
   "cell_type": "code",
   "execution_count": 37,
   "metadata": {},
   "outputs": [
    {
     "data": {
      "text/plain": [
       "((21, 1), (21, 1))"
      ]
     },
     "execution_count": 37,
     "metadata": {},
     "output_type": "execute_result"
    }
   ],
   "source": [
    "(X_test.shape, y_test.shape)"
   ]
  },
  {
   "cell_type": "code",
   "execution_count": 331,
   "metadata": {},
   "outputs": [],
   "source": [
    "#增加偏置项\n",
    "#偏置项一般选1\n",
    "X_train = np.insert(X_train, 0, values=1, axis=1)\n",
    "X_val = np.insert(X_val, 0, values=1, axis=1)\n",
    "X_test = np.insert(X_test, 0, values=1, axis=1)"
   ]
  },
  {
   "cell_type": "code",
   "execution_count": 43,
   "metadata": {},
   "outputs": [
    {
     "data": {
      "text/plain": [
       "((12, 2), (21, 2), (21, 2))"
      ]
     },
     "execution_count": 43,
     "metadata": {},
     "output_type": "execute_result"
    }
   ],
   "source": [
    "(X_train.shape, X_val.shape, X_test.shape)"
   ]
  },
  {
   "cell_type": "raw",
   "metadata": {},
   "source": [
    "data visulization"
   ]
  },
  {
   "cell_type": "code",
   "execution_count": 44,
   "metadata": {},
   "outputs": [],
   "source": [
    "def plot_data(X, y):\n",
    "    fig, ax = plt.subplots()\n",
    "    ax.scatter(X, y)\n",
    "    ax.set(xlabel='change of water level',\n",
    "           ylabel='water flowing out of dam'\n",
    "          )"
   ]
  },
  {
   "cell_type": "code",
   "execution_count": 48,
   "metadata": {},
   "outputs": [
    {
     "data": {
      "text/plain": [
       "((12, 1), (12, 1))"
      ]
     },
     "execution_count": 48,
     "metadata": {},
     "output_type": "execute_result"
    }
   ],
   "source": [
    "(X_train[:,1:].shape, y_train.shape)"
   ]
  },
  {
   "cell_type": "code",
   "execution_count": 49,
   "metadata": {},
   "outputs": [
    {
     "data": {
      "image/png": "[encoded data removed]",
      "text/plain": [
       "<Figure size 432x288 with 1 Axes>"
      ]
     },
     "metadata": {
      "needs_background": "light"
     },
     "output_type": "display_data"
    }
   ],
   "source": [
    "plot_data(X_train[:,1:], y_train)"
   ]
  },
  {
   "cell_type": "code",
   "execution_count": 165,
   "metadata": {},
   "outputs": [],
   "source": [
    "def reg_cost(theta, X, y, lamda):\n",
    "    \n",
    "    #y变成一维数组\n",
    "    #因为minimize对theta的要求是一维数组\n",
    "    cost = np.sum(np.power(X@theta-y.flatten(), 2))\n",
    "#     print(cost.shape)\n",
    "#     reg = np.power(theta[1:], 2)\n",
    "    reg = theta[1:] @ theta[1:]\n",
    "    \n",
    "    return np.sum(cost+reg) / (2 * len(X))"
   ]
  },
  {
   "cell_type": "code",
   "execution_count": 156,
   "metadata": {},
   "outputs": [
    {
     "name": "stdout",
     "output_type": "stream",
     "text": [
      "()\n"
     ]
    },
    {
     "data": {
      "text/plain": [
       "303.9931922202643"
      ]
     },
     "execution_count": 156,
     "metadata": {},
     "output_type": "execute_result"
    }
   ],
   "source": [
    "#一定注意数据原始的维度\n",
    "#逻辑出错时候不一定报错\n",
    "theta = np.ones(X_train.shape[1])  \n",
    "lamda = 1\n",
    "\n",
    "reg_cost(theta, X_train, y_train, lamda)"
   ]
  },
  {
   "cell_type": "code",
   "execution_count": 157,
   "metadata": {},
   "outputs": [
    {
     "name": "stdout",
     "output_type": "stream",
     "text": [
      "<class 'numpy.ndarray'>\n",
      "(1,)\n",
      "<class 'numpy.float64'>\n",
      "()\n"
     ]
    }
   ],
   "source": [
    "#数据类型上的区别\n",
    "print(type(np.power(theta[1:], 2)))\n",
    "print((np.power(theta[1:], 2)).shape)\n",
    "print(type( theta[1:] @ theta[1:]))\n",
    "print(( theta[1:] @ theta[1:]).shape)"
   ]
  },
  {
   "cell_type": "code",
   "execution_count": 330,
   "metadata": {},
   "outputs": [],
   "source": [
    "#minimize里用到\n",
    "def reg_gradient(theta, X, y, lamda):\n",
    "    \n",
    "    grad = (X@theta - y.flatten()) @ X\n",
    "#     print(grad.shape)\n",
    "    reg = lamda * theta\n",
    "#     print(reg.shape)\n",
    "    reg[0] = 0\n",
    "    \n",
    "    return (grad+reg) / len(X)"
   ]
  },
  {
   "cell_type": "code",
   "execution_count": 159,
   "metadata": {},
   "outputs": [
    {
     "data": {
      "text/plain": [
       "array([-15.30301567, 598.25074417])"
      ]
     },
     "execution_count": 159,
     "metadata": {},
     "output_type": "execute_result"
    }
   ],
   "source": [
    "reg_gradient(theta, X_train, y_train, lamda)"
   ]
  },
  {
   "cell_type": "code",
   "execution_count": 201,
   "metadata": {},
   "outputs": [],
   "source": [
    "def train_model(X, y, lamda):\n",
    "    \n",
    "    theta = np.ones(X.shape[1])\n",
    "    \n",
    "    res = minimize(fun=reg_cost,\n",
    "                    x0=theta,\n",
    "                    args=(X,y,lamda),\n",
    "                    method='TNC',\n",
    "                    jac=reg_gradient)\n",
    "#     print(res)\n",
    "#     print()\n",
    "    return res.x"
   ]
  },
  {
   "cell_type": "code",
   "execution_count": 289,
   "metadata": {},
   "outputs": [
    {
     "name": "stdout",
     "output_type": "stream",
     "text": [
      "[13.08790398  0.36777923]\n"
     ]
    }
   ],
   "source": [
    "theta = np.ones(X_train.shape[1])\n",
    "theta_final = train_model(X_train, y_train, 0)\n",
    "print(theta_final)"
   ]
  },
  {
   "cell_type": "code",
   "execution_count": 181,
   "metadata": {},
   "outputs": [
    {
     "data": {
      "image/png": "[encoded data removed]",
      "text/plain": [
       "<Figure size 432x288 with 1 Axes>"
      ]
     },
     "metadata": {
      "needs_background": "light"
     },
     "output_type": "display_data"
    }
   ],
   "source": [
    "plot_data(X_train[:,1:], y_train)\n",
    "plt.plot(X_train[:,1:], X_train@theta_final, c='r')\n",
    "plt.show()"
   ]
  },
  {
   "cell_type": "markdown",
   "metadata": {},
   "source": [
    "### 任务1：\n"
   ]
  },
  {
   "cell_type": "markdown",
   "metadata": {},
   "source": [
    "#### 训练样本数量从1开始递增，比较训练集和验证集上的损失函数的变化情况\n",
    "验证训练集数量和偏差之间的关系"
   ]
  },
  {
   "cell_type": "code",
   "execution_count": 317,
   "metadata": {},
   "outputs": [],
   "source": [
    "def plot_learning_curve(X_train, y_train, X_val, y_val, lamda):\n",
    "    x = range(1, len(X_train)+1)\n",
    "    training_cost = []\n",
    "    cv_cost = []\n",
    "    \n",
    "    for i in x:\n",
    "        \n",
    "        #为了得到不同个数训练集的theta\n",
    "        res = train_model(X_train[:i,:], y_train[:i,:], lamda)\n",
    "        #训练集的代价\n",
    "        training_cost_i = reg_cost(res, X_train[:i,:], \n",
    "                                   y_train[:i,:], lamda)\n",
    "        training_cost.append(training_cost_i)\n",
    "        \n",
    "        #交叉训练集的代价\n",
    "        cv_cost_i = reg_cost(res, X_val, y_val, lamda)\n",
    "        cv_cost.append(cv_cost_i)\n",
    "        \n",
    "    plt.plot(x, training_cost, label='training cost')\n",
    "    plt.plot(x, cv_cost, label='cv cost')\n",
    "    #显示图例的标签用的\n",
    "    plt.legend()\n",
    "    plt.xlabel('number of traing examples')\n",
    "    plt.ylabel('error')\n",
    "    plt.show()"
   ]
  },
  {
   "cell_type": "code",
   "execution_count": 318,
   "metadata": {},
   "outputs": [
    {
     "data": {
      "image/png": "[encoded data removed]",
      "text/plain": [
       "<Figure size 432x288 with 1 Axes>"
      ]
     },
     "metadata": {
      "needs_background": "light"
     },
     "output_type": "display_data"
    }
   ],
   "source": [
    "plot_learning_curve(X_train, y_train, X_val, y_val, 0)"
   ]
  },
  {
   "cell_type": "markdown",
   "metadata": {},
   "source": [
    "#### 从上图中看应该是属于高偏差类别，high bias"
   ]
  },
  {
   "cell_type": "markdown",
   "metadata": {},
   "source": [
    "### 任务2"
   ]
  },
  {
   "cell_type": "markdown",
   "metadata": {},
   "source": [
    "#### 构造多项式，进行多项式回归"
   ]
  },
  {
   "cell_type": "code",
   "execution_count": 319,
   "metadata": {},
   "outputs": [],
   "source": [
    "#只有液位一个特征，因此做多项式\n",
    "def poly_feature(X, power):\n",
    "    \n",
    "    for i in range(2, power+1):\n",
    "        X = np.insert(X, X.shape[-1], np.power(X[:,1],i), axis=1)\n",
    "    return X"
   ]
  },
  {
   "cell_type": "code",
   "execution_count": 320,
   "metadata": {},
   "outputs": [],
   "source": [
    "#量纲上不匹配，因此做归一化\n",
    "#平均值和方差是为特征归一化准备的\n",
    "def get_means_stds(X):\n",
    "    \n",
    "    means = np.mean(X, axis=0)\n",
    "    stds = np.std(X, axis=0)\n",
    "    return means, stds"
   ]
  },
  {
   "cell_type": "code",
   "execution_count": 321,
   "metadata": {},
   "outputs": [],
   "source": [
    "#特征归一化处理\n",
    "def feature_normalize(X, means, stds):\n",
    "    X[:,1:] = (X[:,1:] - means[1:]) / stds[1:]\n",
    "    \n",
    "    return X"
   ]
  },
  {
   "cell_type": "code",
   "execution_count": 322,
   "metadata": {},
   "outputs": [],
   "source": [
    "power = 6"
   ]
  },
  {
   "cell_type": "code",
   "execution_count": 323,
   "metadata": {},
   "outputs": [],
   "source": [
    "X_train_poly = poly_feature(X_train, power)\n",
    "X_val_poly = poly_feature(X_val, power)\n",
    "X_test_poly = poly_feature(X_test, power)"
   ]
  },
  {
   "cell_type": "code",
   "execution_count": 324,
   "metadata": {},
   "outputs": [
    {
     "name": "stdout",
     "output_type": "stream",
     "text": [
      "[ 1.00000000e+00 -5.08542635e+00  8.48904834e+02 -1.28290173e+04\n",
      "  1.28967789e+06 -2.98314592e+07  2.29330301e+09]\n"
     ]
    }
   ],
   "source": [
    "train_means, train_stds = get_means_stds(X_train_poly)\n",
    "print(train_means)"
   ]
  },
  {
   "cell_type": "code",
   "execution_count": 325,
   "metadata": {},
   "outputs": [],
   "source": [
    "X_train_norm = feature_normalize(X_train_poly,train_means,train_stds)\n",
    "X_val_norm = feature_normalize(X_val_poly,train_means,train_stds)\n",
    "X_test_norm = feature_normalize(X_test_poly,train_means,train_stds)\n",
    "# print(X_train_norm)"
   ]
  },
  {
   "cell_type": "code",
   "execution_count": 334,
   "metadata": {},
   "outputs": [
    {
     "name": "stdout",
     "output_type": "stream",
     "text": [
      "[[ 1.00000000e+00 -3.78243704e-01 -7.88662325e-01  1.90328720e-01\n",
      "  -7.37591303e-01  3.20251970e-01 -6.17151602e-01]\n",
      " [ 1.00000000e+00 -8.38920100e-01  1.31420204e-03 -2.58961742e-01\n",
      "  -3.41564822e-01  9.75492734e-02 -4.55196644e-01]\n",
      " [ 1.00000000e+00  1.43871736e+00  6.10831582e-01  1.30534069e+00\n",
      "   2.56220001e-01  1.02186338e+00 -1.26962121e-02]\n",
      " [ 1.00000000e+00  1.48412330e+00  7.38068463e-01  1.42031240e+00\n",
      "   4.13121830e-01  1.15534830e+00  1.31223708e-01]\n",
      " [ 1.00000000e+00 -1.49791929e+00  1.93643966e+00 -2.12774745e+00\n",
      "   2.43510061e+00 -2.51876748e+00  2.71792174e+00]\n",
      " [ 1.00000000e+00 -1.34409278e-01 -1.01936614e+00  2.62563148e-01\n",
      "  -7.72577738e-01  3.31046537e-01 -6.21453712e-01]\n",
      " [ 1.00000000e+00  7.10844248e-01 -8.14713668e-01  3.55803314e-01\n",
      "  -7.43368461e-01  3.41027665e-01 -6.18104683e-01]\n",
      " [ 1.00000000e+00 -1.03249041e+00  4.71428060e-01 -6.28018432e-01\n",
      "   9.70487696e-02 -2.28187552e-01 -1.47905228e-01]\n",
      " [ 1.00000000e+00  2.25683763e-01 -1.12279332e+00  2.78115330e-01\n",
      "  -7.76423647e-01  3.31682056e-01 -6.21592224e-01]\n",
      " [ 1.00000000e+00 -1.36981778e+00  1.48607235e+00 -1.61695958e+00\n",
      "   1.55980151e+00 -1.58331392e+00  1.45040261e+00]\n",
      " [ 1.00000000e+00  4.21731046e-01 -1.06014377e+00  2.85534542e-01\n",
      "  -7.74969228e-01  3.31870677e-01 -6.21559967e-01]\n",
      " [ 1.00000000e+00  9.70700848e-01 -4.38475085e-01  5.33689054e-01\n",
      "  -6.14797521e-01  3.99629101e-01 -5.83887796e-01]]\n"
     ]
    }
   ],
   "source": [
    "theta_final = train_model(X_train_norm, y_train, lamda=0)\n",
    "theta_final\n",
    "print(X_train_norm)"
   ]
  },
  {
   "cell_type": "code",
   "execution_count": 327,
   "metadata": {},
   "outputs": [],
   "source": [
    "def plot_poly_final():\n",
    "    \n",
    "    plot_data(X_train[:,1:], y_train)\n",
    "    \n",
    "    x = np.linspace(-60, 60, 100)\n",
    "    xx = x.reshape(100, 1)\n",
    "    xx = np.insert(xx, 0, 1, axis=1)\n",
    "    #构造多项式特征\n",
    "    xx = poly_feature(xx, power)\n",
    "    #特征归一化，同一量纲\n",
    "    xx = feature_normalize(xx, train_means, train_stds)\n",
    "    \n",
    "    plt.plot(x, xx@theta_final, 'r--')"
   ]
  },
  {
   "cell_type": "code",
   "execution_count": 328,
   "metadata": {},
   "outputs": [
    {
     "data": {
      "image/png": "[encoded data removed]",
      "text/plain": [
       "<Figure size 432x288 with 1 Axes>"
      ]
     },
     "metadata": {
      "needs_background": "light"
     },
     "output_type": "display_data"
    }
   ],
   "source": [
    "plot_poly_final()\n",
    "###下面的图和样例的不一样，实在找不到原因在哪里，输入检查了，是一样的，\n",
    "###输出不一样，函数一样的"
   ]
  },
  {
   "cell_type": "code",
   "execution_count": 329,
   "metadata": {},
   "outputs": [
    {
     "data": {
      "image/png": "[encoded data removed]",
      "text/plain": [
       "<Figure size 432x288 with 1 Axes>"
      ]
     },
     "metadata": {
      "needs_background": "light"
     },
     "output_type": "display_data"
    }
   ],
   "source": [
    "plot_learning_curve(X_train_norm, y_train,\n",
    "                    X_val_norm, y_val, 0)"
   ]
  },
  {
   "cell_type": "raw",
   "metadata": {},
   "source": [
    "正则化参数的选取"
   ]
  },
  {
   "cell_type": "code",
   "execution_count": 281,
   "metadata": {},
   "outputs": [],
   "source": [
    "lamdas = [0, 0.001, 0.003, 0.01, 0.03, 0.1, 0.3, 1, 3, 10]\n",
    "\n",
    "training_cost = []\n",
    "cv_cost = []\n",
    "\n",
    "for lamda in lamdas:\n",
    "    res = train_model(X_train_norm, y_train, lamda)\n",
    "    \n",
    "    tc = reg_cost(res, X_train_norm, y_train, lamda=0)\n",
    "    cv = reg_cost(res, X_val_norm, y_val, lamda=0)\n",
    "    \n",
    "    training_cost.append(tc)\n",
    "    cv_cost.append(cv)"
   ]
  },
  {
   "cell_type": "code",
   "execution_count": 284,
   "metadata": {},
   "outputs": [
    {
     "data": {
      "image/png": "[encoded data removed]",
      "text/plain": [
       "<Figure size 432x288 with 1 Axes>"
      ]
     },
     "metadata": {
      "needs_background": "light"
     },
     "output_type": "display_data"
    }
   ],
   "source": [
    "plt.plot(lamdas, training_cost, label='training cost')\n",
    "plt.plot(lamdas, cv_cost, label='cv cost')\n",
    "plt.legend()\n",
    "\n",
    "plt.xlabel('lamda')\n",
    "plt.ylabel('cost')\n",
    "plt.show()"
   ]
  },
  {
   "cell_type": "code",
   "execution_count": 285,
   "metadata": {},
   "outputs": [
    {
     "data": {
      "text/plain": [
       "3"
      ]
     },
     "execution_count": 285,
     "metadata": {},
     "output_type": "execute_result"
    }
   ],
   "source": [
    "lamdas[np.argmin(cv_cost)]"
   ]
  },
  {
   "cell_type": "raw",
   "metadata": {},
   "source": [
    "最后用test来验证训练效果"
   ]
  },
  {
   "cell_type": "code",
   "execution_count": 288,
   "metadata": {},
   "outputs": [
    {
     "name": "stdout",
     "output_type": "stream",
     "text": [
      "6.442537030073284\n"
     ]
    }
   ],
   "source": [
    "res = train_model(X_train_norm, y_train, lamda=3)\n",
    "test_cost = reg_cost(res, X_test_norm, y_test, lamda=0)\n",
    "print(test_cost)"
   ]
  },
  {
   "cell_type": "code",
   "execution_count": null,
   "metadata": {},
   "outputs": [],
   "source": []
  }
 ],
 "metadata": {
  "kernelspec": {
   "display_name": "Python 3",
   "language": "python",
   "name": "python3"
  },
  "language_info": {
   "codemirror_mode": {
    "name": "ipython",
    "version": 3
   },
   "file_extension": ".py",
   "mimetype": "text/x-python",
   "name": "python",
   "nbconvert_exporter": "python",
   "pygments_lexer": "ipython3",
   "version": "3.6.5"
  }
 },
 "nbformat": 4,
 "nbformat_minor": 2
}
