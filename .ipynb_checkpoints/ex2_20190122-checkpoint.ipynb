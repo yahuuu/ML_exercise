{
 "cells": [
  {
   "cell_type": "markdown",
   "metadata": {},
   "source": [
    "## 逻辑回归（Logistic Regression)，用来解决分类问题。\n"
   ]
  },
  {
   "cell_type": "markdown",
   "metadata": {},
   "source": [
    "#### 线性可分案例：根据两门成绩，预测学生是否会被大学录取。"
   ]
  },
  {
   "cell_type": "code",
   "execution_count": 12,
   "metadata": {},
   "outputs": [],
   "source": [
    "import numpy as np\n",
    "import pandas as pd\n",
    "import matplotlib.pyplot as plt"
   ]
  },
  {
   "cell_type": "code",
   "execution_count": 13,
   "metadata": {
    "scrolled": true
   },
   "outputs": [
    {
     "data": {
      "text/html": [
       "<div>\n",
       "<style scoped>\n",
       "    .dataframe tbody tr th:only-of-type {\n",
       "        vertical-align: middle;\n",
       "    }\n",
       "\n",
       "    .dataframe tbody tr th {\n",
       "        vertical-align: top;\n",
       "    }\n",
       "\n",
       "    .dataframe thead th {\n",
       "        text-align: right;\n",
       "    }\n",
       "</style>\n",
       "<table border=\"1\" class=\"dataframe\">\n",
       "  <thead>\n",
       "    <tr style=\"text-align: right;\">\n",
       "      <th></th>\n",
       "      <th>Ex1</th>\n",
       "      <th>Ex2</th>\n",
       "      <th>Accept</th>\n",
       "    </tr>\n",
       "  </thead>\n",
       "  <tbody>\n",
       "    <tr>\n",
       "      <th>0</th>\n",
       "      <td>34.623660</td>\n",
       "      <td>78.024693</td>\n",
       "      <td>0</td>\n",
       "    </tr>\n",
       "    <tr>\n",
       "      <th>1</th>\n",
       "      <td>30.286711</td>\n",
       "      <td>43.894998</td>\n",
       "      <td>0</td>\n",
       "    </tr>\n",
       "    <tr>\n",
       "      <th>2</th>\n",
       "      <td>35.847409</td>\n",
       "      <td>72.902198</td>\n",
       "      <td>0</td>\n",
       "    </tr>\n",
       "    <tr>\n",
       "      <th>3</th>\n",
       "      <td>60.182599</td>\n",
       "      <td>86.308552</td>\n",
       "      <td>1</td>\n",
       "    </tr>\n",
       "    <tr>\n",
       "      <th>4</th>\n",
       "      <td>79.032736</td>\n",
       "      <td>75.344376</td>\n",
       "      <td>1</td>\n",
       "    </tr>\n",
       "  </tbody>\n",
       "</table>\n",
       "</div>"
      ],
      "text/plain": [
       "         Ex1        Ex2  Accept\n",
       "0  34.623660  78.024693       0\n",
       "1  30.286711  43.894998       0\n",
       "2  35.847409  72.902198       0\n",
       "3  60.182599  86.308552       1\n",
       "4  79.032736  75.344376       1"
      ]
     },
     "execution_count": 13,
     "metadata": {},
     "output_type": "execute_result"
    }
   ],
   "source": [
    "path = '/home/alex/test/NG_exercise/ex2_logisticRegression/ex2data1.txt'\n",
    "data = pd.read_csv(path, header=None, names=['Ex1', 'Ex2', 'Accept'])\n",
    "data.head()"
   ]
  },
  {
   "cell_type": "code",
   "execution_count": 14,
   "metadata": {},
   "outputs": [
    {
     "data": {
      "image/png": "[encoded data removed]",
      "text/plain": [
       "<Figure size 432x288 with 1 Axes>"
      ]
     },
     "metadata": {
      "needs_background": "light"
     },
     "output_type": "display_data"
    }
   ],
   "source": [
    "fig, ax = plt.subplots()\n",
    "ax.scatter(data[data['Accept']==0]['Ex1'], data[data['Accept']==0]['Ex2'], c='r', marker='x', label='Unaccept')\n",
    "ax.scatter(data[data['Accept']==1]['Ex1'], data[data['Accept']==1]['Ex2'], c='b', marker='o', label='Accept')\n",
    "ax.legend()\n",
    "ax.set(xlabel='Ex1',\n",
    "       ylabel='Ex2',\n",
    "       title='Exam and Accept')\n",
    "ax.legend()\n",
    "plt.show()"
   ]
  },
  {
   "cell_type": "code",
   "execution_count": 15,
   "metadata": {},
   "outputs": [],
   "source": [
    "def get_Xy(data):\n",
    "    data.insert(0, 'one', 1)  #theta0 + theta1 * x\n",
    "    X = data.iloc[:, 0:-1].values #取前三列\n",
    "    y = data.iloc[:,-1].values #最后一列的录取结果\n",
    "    \n",
    "    return X,y"
   ]
  },
  {
   "cell_type": "code",
   "execution_count": 16,
   "metadata": {},
   "outputs": [],
   "source": [
    "X,y = get_Xy(data)"
   ]
  },
  {
   "cell_type": "code",
   "execution_count": 17,
   "metadata": {},
   "outputs": [
    {
     "data": {
      "text/plain": [
       "numpy.ndarray"
      ]
     },
     "execution_count": 17,
     "metadata": {},
     "output_type": "execute_result"
    }
   ],
   "source": [
    "type(y)"
   ]
  },
  {
   "cell_type": "code",
   "execution_count": 18,
   "metadata": {},
   "outputs": [
    {
     "data": {
      "text/plain": [
       "(100,)"
      ]
     },
     "execution_count": 18,
     "metadata": {},
     "output_type": "execute_result"
    }
   ],
   "source": [
    "y.shape"
   ]
  },
  {
   "cell_type": "code",
   "execution_count": 19,
   "metadata": {},
   "outputs": [
    {
     "data": {
      "text/plain": [
       "(100, 3)"
      ]
     },
     "execution_count": 19,
     "metadata": {},
     "output_type": "execute_result"
    }
   ],
   "source": [
    "X.shape"
   ]
  },
  {
   "cell_type": "code",
   "execution_count": 20,
   "metadata": {},
   "outputs": [
    {
     "data": {
      "text/plain": [
       "(100, 1)"
      ]
     },
     "execution_count": 20,
     "metadata": {},
     "output_type": "execute_result"
    }
   ],
   "source": [
    "y = y.reshape(100,1);\n",
    "#遇到的bug误差初始值被放大一百倍，在这里#y.reshape(100,1);\n",
    "#没有赋值，没有改变原值\n",
    "y.shape"
   ]
  },
  {
   "cell_type": "code",
   "execution_count": 21,
   "metadata": {},
   "outputs": [],
   "source": [
    "def sigmoid(z):\n",
    "#     return np.exp(z) / (1 + np.exp(z))\n",
    "    return 1 / (1 + np.exp(-z))"
   ]
  },
  {
   "cell_type": "code",
   "execution_count": 22,
   "metadata": {},
   "outputs": [],
   "source": [
    "def cost_function(X, y, theta):\n",
    "    \n",
    "    h_theta = sigmoid(X @ theta)\n",
    "    \n",
    "    left = -y * np.log(h_theta)\n",
    "    right = -(1 - y) * np.log(1 - h_theta)\n",
    "    \n",
    "    return np.sum(right + left) / len(X)\n"
   ]
  },
  {
   "cell_type": "code",
   "execution_count": 23,
   "metadata": {},
   "outputs": [],
   "source": [
    "theta = np.zeros((3,1))"
   ]
  },
  {
   "cell_type": "code",
   "execution_count": 24,
   "metadata": {},
   "outputs": [],
   "source": [
    "cost_init = cost_function(X, y, theta)"
   ]
  },
  {
   "cell_type": "code",
   "execution_count": 25,
   "metadata": {},
   "outputs": [
    {
     "name": "stdout",
     "output_type": "stream",
     "text": [
      "0.6931471805599453\n"
     ]
    }
   ],
   "source": [
    "print(cost_init)"
   ]
  },
  {
   "cell_type": "code",
   "execution_count": 26,
   "metadata": {},
   "outputs": [],
   "source": [
    "def gradient_descent(X, y, theta, iters, alpha):\n",
    "    costs = []\n",
    "    M = len(X)\n",
    "    for i in range(iters):\n",
    "        A = sigmoid(X @ theta)\n",
    "        theta = theta - (alpha / M) * X.T @ (A - y)\n",
    "        cost = cost_function(X, y, theta)\n",
    "        costs.append(cost)\n",
    "        \n",
    "        if i %1000 == 0:\n",
    "            print(cost)\n",
    "    return costs, theta"
   ]
  },
  {
   "cell_type": "code",
   "execution_count": 27,
   "metadata": {},
   "outputs": [],
   "source": [
    "alpha = 0.004\n",
    "iters = 200000"
   ]
  },
  {
   "cell_type": "code",
   "execution_count": 28,
   "metadata": {},
   "outputs": [
    {
     "name": "stdout",
     "output_type": "stream",
     "text": [
      "1.9886538578930086\n",
      "3.078170019864155\n",
      "5.487009635362496\n",
      "1.8519433661332634\n",
      "2.955128942408359\n",
      "5.438688730769618\n",
      "1.8046128090728508\n",
      "2.8312715776074047\n",
      "5.3886531633606145\n",
      "1.756153811712156\n",
      "2.706676380747814\n",
      "5.3365673644957425\n",
      "1.7062807047694803\n",
      "2.581850851905425\n",
      "5.281774101800353\n",
      "1.6544129958512057\n",
      "2.457843094743577\n",
      "5.223255119969365\n",
      "1.5996612097145573\n",
      "2.336247751941462\n",
      "5.159653459570274\n",
      "1.5408871901849066\n",
      "2.2190492038468896\n",
      "5.089387088751128\n",
      "1.4768567851081464\n",
      "2.1082685090536493\n",
      "5.010845104587983\n",
      "1.4064493632805872\n",
      "2.005433890383272\n",
      "4.9225734611717336\n",
      "1.3288041261254444\n",
      "1.9109646054893665\n",
      "4.82325748482661\n",
      "1.2432202250971698\n",
      "1.823586612152141\n",
      "4.711246821296763\n",
      "1.148627793213958\n",
      "1.7397667362448013\n",
      "4.5832574004573505\n",
      "1.0423478306006693\n",
      "1.6525865746034045\n",
      "4.430932868329269\n",
      "0.9166267386002193\n",
      "1.5465331276550875\n",
      "4.224624720512682\n",
      "0.7330944584991166\n",
      "1.4388789955395211\n",
      "1.1051134842412247\n",
      "0.7982483528525463\n",
      "0.27263052638150115\n",
      "1.0296825591141883\n",
      "0.4594428292480828\n",
      "0.424140609838113\n",
      "2.9555724161492605\n",
      "1.1613518799857978\n",
      "0.2331060921593929\n",
      "0.24227449317708832\n",
      "1.3719213771006806\n",
      "0.7433042907677385\n",
      "3.2440626277439577\n",
      "3.181310483136646\n",
      "0.2734674990853138\n",
      "0.23388745300426264\n",
      "0.4305999132290513\n",
      "0.6825208577978714\n",
      "0.3233175875928249\n",
      "0.24533000060757448\n",
      "0.30612579696342684\n",
      "0.8900865226536213\n",
      "0.8647001463030161\n",
      "0.3524437321090555\n",
      "0.49863247231778374\n",
      "0.446433371837964\n",
      "0.23603523129550433\n",
      "0.5278695950287321\n",
      "0.2770396537705125\n",
      "0.5272785474533302\n",
      "0.5071286733302489\n",
      "0.739092869383726\n",
      "0.8357781785680936\n",
      "0.8095738492324241\n",
      "0.8279689877903701\n",
      "0.8166465073056278\n",
      "0.801270184712618\n",
      "0.7779234943903106\n",
      "0.7716525609516084\n",
      "0.7645845558790576\n",
      "0.7565604045712466\n",
      "0.7473627022839315\n",
      "0.7366785583601867\n",
      "0.724026357262695\n",
      "0.7085877748802606\n",
      "0.6887323878810744\n",
      "0.660071661010988\n",
      "0.6067059129420148\n",
      "0.5972339146978471\n",
      "0.5953039659722807\n",
      "0.5932582828200812\n",
      "0.591096714606587\n",
      "0.5888195039451756\n",
      "0.586427293723774\n",
      "0.5839211304996517\n",
      "0.5813024637297043\n",
      "0.5785731404649309\n",
      "0.5757353952377078\n",
      "0.5727918349972912\n",
      "0.5697454190984789\n",
      "0.5665994345137011\n",
      "0.5633574666110204\n",
      "0.560023366009331\n",
      "0.5566012121764579\n",
      "0.5530952745654606\n",
      "0.5495099721800044\n",
      "0.5458498325148242\n",
      "0.5421194508281711\n",
      "0.5383234506699014\n",
      "0.5344664465143921\n",
      "0.5305530092382515\n",
      "0.5265876350468608\n",
      "0.5225747183010576\n",
      "0.5185185285356221\n",
      "0.5144231918042004\n",
      "0.510292676338855\n",
      "0.5061307823832999\n",
      "0.5019411359510086\n",
      "0.49772718617554546\n",
      "0.4934922058605589\n",
      "0.48923929480047207\n",
      "0.48497138542722523\n",
      "0.4806912503407235\n",
      "0.476401511297588\n",
      "0.4721046492607753\n",
      "0.4678030151484301\n",
      "0.4634988409610268\n",
      "0.4591942510088506\n",
      "0.4548912730051465\n",
      "0.45059184883220504\n",
      "0.4462978448271543\n",
      "0.44201106147034636\n",
      "0.4377332423917214\n",
      "0.433466082638906\n",
      "0.42921123617517504\n",
      "0.42497032259594514\n",
      "0.4207449330690225\n",
      "0.4165366355171178\n",
      "0.41234697907106443\n",
      "0.40817749782920726\n",
      "0.40402971396297427\n",
      "0.3999051402105694\n",
      "0.39580528180127783\n",
      "0.39173163785084386\n",
      "0.387685702266028\n",
      "0.3836689641920091\n",
      "0.3796829080319967\n",
      "0.37572901306282835\n",
      "0.3718087526652936\n",
      "0.36792359318258305\n",
      "0.36407499241555835\n",
      "0.36026439775958485\n",
      "0.3564932439847251\n",
      "0.35276295065940544\n",
      "0.3490749192174159\n",
      "0.34543052966977283\n",
      "0.3418311369658915\n",
      "0.3382780670137289\n",
      "0.3347726123749467\n",
      "0.3313160276596537\n",
      "0.3279095246544014\n",
      "0.3245542672276869\n",
      "0.3212513660679051\n",
      "0.3180018733194966\n",
      "0.3148067771930236\n",
      "0.3116669966338783\n",
      "0.3085833761409457\n",
      "0.30555668083154547\n",
      "0.3025875918502521\n",
      "0.2996767022179429\n",
      "0.29682451321235226\n",
      "0.29403143136363474\n",
      "0.2912977661366307\n",
      "0.2886237283577858\n",
      "0.28600942942838953\n",
      "0.2834548813477846\n",
      "0.2809599975518462\n",
      "0.27852459455320067\n",
      "0.2761483943520456\n",
      "0.27383102756979466\n",
      "0.2715720372437442\n",
      "0.2693708832089296\n",
      "0.2672269469846566\n",
      "0.265139537076931\n",
      "0.2631078946051935\n",
      "0.26113119916147093\n",
      "0.2592085748123414\n",
      "0.25733909615869954\n",
      "0.2555217943746294\n",
      "0.2537556631542289\n",
      "0.252039664503911\n",
      "0.25037273432688295\n",
      "0.24875378775575363\n"
     ]
    }
   ],
   "source": [
    "costs,theta_fina = gradient_descent(X, y, theta, iters, alpha)\n"
   ]
  },
  {
   "cell_type": "code",
   "execution_count": 29,
   "metadata": {},
   "outputs": [
    {
     "name": "stdout",
     "output_type": "stream",
     "text": [
      "[[-23.77363059]\n",
      " [  0.20686002]\n",
      " [  0.19996941]]\n"
     ]
    }
   ],
   "source": [
    "print(theta_fina)"
   ]
  },
  {
   "cell_type": "code",
   "execution_count": 30,
   "metadata": {},
   "outputs": [],
   "source": [
    "def predict(X, theta):\n",
    "    \n",
    "    prob = sigmoid(X @ theta_fina)\n",
    "#     print(prob)\n",
    "    #这段表达式比我写的高雅\n",
    "    return [1 if x >= 0.5 else 0 for x in prob]"
   ]
  },
  {
   "cell_type": "code",
   "execution_count": 31,
   "metadata": {},
   "outputs": [],
   "source": [
    "Acception = np.array(predict(X, theta))\n",
    "Acception_pred = Acception.reshape(100,1)"
   ]
  },
  {
   "cell_type": "code",
   "execution_count": 32,
   "metadata": {},
   "outputs": [
    {
     "name": "stdout",
     "output_type": "stream",
     "text": [
      "预测准确率: 0.91\n"
     ]
    }
   ],
   "source": [
    "#预测值和实际值比较，检测预测成功率\n",
    "#矩阵可以直接比较，返回带T/F矩阵\n",
    "accurate = [Acception_pred == y]\n",
    "print(\"预测准确率:\", np.mean(accurate))"
   ]
  },
  {
   "cell_type": "code",
   "execution_count": 33,
   "metadata": {},
   "outputs": [],
   "source": [
    "k1 = -theta_fina[0,0] / theta_fina[2,0]\n",
    "k2 = -theta_fina[1,0] / theta_fina[2,0]"
   ]
  },
  {
   "cell_type": "code",
   "execution_count": 34,
   "metadata": {
    "scrolled": true
   },
   "outputs": [
    {
     "data": {
      "image/png": "[encoded data removed]",
      "text/plain": [
       "<Figure size 432x288 with 1 Axes>"
      ]
     },
     "metadata": {
      "needs_background": "light"
     },
     "output_type": "display_data"
    }
   ],
   "source": [
    "x = np.linspace(20, 100, 100)\n",
    "\n",
    "#f是决策边界\n",
    "f = k1 + k2 * x\n",
    "\n",
    "fig,ax = plt.subplots()\n",
    "\n",
    "ax.scatter(data[data['Accept']==0]['Ex1'], data[data['Accept']==0]['Ex2'], c='r', marker='x', label='Unaccept')\n",
    "ax.scatter(data[data['Accept']==1]['Ex1'], data[data['Accept']==1]['Ex2'], c='g', marker='o', label='Unaccept')\n",
    "ax.set(xlabel='Exm1',\n",
    "       ylabel='Exm2',\n",
    "       title ='Logistic Regression Boundary')\n",
    "ax.legend()#是否显示图例\n",
    "ax.plot(x,f,c='y')\n",
    "plt.show()"
   ]
  },
  {
   "cell_type": "markdown",
   "metadata": {},
   "source": [
    "### 线性不可分案例：设想做为生产主管，根据两次测试结果，决定芯片是否要被抛弃"
   ]
  },
  {
   "cell_type": "code",
   "execution_count": 685,
   "metadata": {},
   "outputs": [],
   "source": [
    "import numpy as np\n",
    "import pandas as pd\n",
    "import matplotlib.pyplot as plt"
   ]
  },
  {
   "cell_type": "raw",
   "metadata": {},
   "source": [
    "导入数据并做可视化"
   ]
  },
  {
   "cell_type": "code",
   "execution_count": 686,
   "metadata": {},
   "outputs": [
    {
     "data": {
      "text/html": [
       "<div>\n",
       "<style scoped>\n",
       "    .dataframe tbody tr th:only-of-type {\n",
       "        vertical-align: middle;\n",
       "    }\n",
       "\n",
       "    .dataframe tbody tr th {\n",
       "        vertical-align: top;\n",
       "    }\n",
       "\n",
       "    .dataframe thead th {\n",
       "        text-align: right;\n",
       "    }\n",
       "</style>\n",
       "<table border=\"1\" class=\"dataframe\">\n",
       "  <thead>\n",
       "    <tr style=\"text-align: right;\">\n",
       "      <th></th>\n",
       "      <th>T1</th>\n",
       "      <th>T2</th>\n",
       "      <th>Accepted</th>\n",
       "    </tr>\n",
       "  </thead>\n",
       "  <tbody>\n",
       "    <tr>\n",
       "      <th>0</th>\n",
       "      <td>0.051267</td>\n",
       "      <td>0.69956</td>\n",
       "      <td>1</td>\n",
       "    </tr>\n",
       "    <tr>\n",
       "      <th>1</th>\n",
       "      <td>-0.092742</td>\n",
       "      <td>0.68494</td>\n",
       "      <td>1</td>\n",
       "    </tr>\n",
       "    <tr>\n",
       "      <th>2</th>\n",
       "      <td>-0.213710</td>\n",
       "      <td>0.69225</td>\n",
       "      <td>1</td>\n",
       "    </tr>\n",
       "    <tr>\n",
       "      <th>3</th>\n",
       "      <td>-0.375000</td>\n",
       "      <td>0.50219</td>\n",
       "      <td>1</td>\n",
       "    </tr>\n",
       "    <tr>\n",
       "      <th>4</th>\n",
       "      <td>-0.513250</td>\n",
       "      <td>0.46564</td>\n",
       "      <td>1</td>\n",
       "    </tr>\n",
       "  </tbody>\n",
       "</table>\n",
       "</div>"
      ],
      "text/plain": [
       "         T1       T2  Accepted\n",
       "0  0.051267  0.69956         1\n",
       "1 -0.092742  0.68494         1\n",
       "2 -0.213710  0.69225         1\n",
       "3 -0.375000  0.50219         1\n",
       "4 -0.513250  0.46564         1"
      ]
     },
     "execution_count": 686,
     "metadata": {},
     "output_type": "execute_result"
    }
   ],
   "source": [
    "path = '/home/alex/test/NG_exercise/ex2_logisticRegression/ex2data2.txt'\n",
    "data = pd.read_csv(path, header=None, names=['T1','T2','Accepted'])\n",
    "data.head()"
   ]
  },
  {
   "cell_type": "code",
   "execution_count": 687,
   "metadata": {},
   "outputs": [
    {
     "data": {
      "image/png": "[encoded data removed]",
      "text/plain": [
       "<Figure size 432x288 with 1 Axes>"
      ]
     },
     "metadata": {
      "needs_background": "light"
     },
     "output_type": "display_data"
    }
   ],
   "source": [
    "fig, ax = plt.subplots() \n",
    "ax.scatter(data[data['Accepted']==1]['T1'], data[data['Accepted']==1]['T2'], c='g', marker='o', label='Accepted')\n",
    "ax.scatter(data[data['Accepted']==0]['T1'], data[data['Accepted']==0]['T2'], c='r', marker='x', label='Unaccepted')\n",
    "ax.legend()\n",
    "\n",
    "ax.set(xlabel='T1',\n",
    "       ylabel='T2')\n",
    "plt.show()"
   ]
  },
  {
   "cell_type": "raw",
   "metadata": {},
   "source": [
    "特征映射和原因：\n",
    "上图数据明显是线性不可分的，所以需要高次特征项来构造边界，因此数据集映射到高阶，得到高次数据集。"
   ]
  },
  {
   "cell_type": "code",
   "execution_count": 736,
   "metadata": {},
   "outputs": [],
   "source": [
    "def feature_mapping(x1, x2, iters):\n",
    "    data = {}\n",
    "    for i in range(iters+1):\n",
    "        for j in range(i+1):\n",
    "            #值得注意关键字可以这么赋值\n",
    "            data['F{}{}'.format(i-j, j)] = np.power(x1, i-j) + np.power(x2, j)\n",
    "            \n",
    "            print(i-j,j)\n",
    "            \n",
    "    return pd.DataFrame(data)"
   ]
  },
  {
   "cell_type": "code",
   "execution_count": 737,
   "metadata": {},
   "outputs": [],
   "source": [
    "x1 = data['T1']\n",
    "x2 = data['T2']"
   ]
  },
  {
   "cell_type": "code",
   "execution_count": 740,
   "metadata": {},
   "outputs": [
    {
     "name": "stdout",
     "output_type": "stream",
     "text": [
      "0 0\n",
      "1 0\n",
      "0 1\n",
      "2 0\n",
      "1 1\n",
      "0 2\n",
      "3 0\n",
      "2 1\n",
      "1 2\n",
      "0 3\n",
      "4 0\n",
      "3 1\n",
      "2 2\n",
      "1 3\n",
      "0 4\n",
      "5 0\n",
      "4 1\n",
      "3 2\n",
      "2 3\n",
      "1 4\n",
      "0 5\n",
      "6 0\n",
      "5 1\n",
      "4 2\n",
      "3 3\n",
      "2 4\n",
      "1 5\n",
      "0 6\n"
     ]
    }
   ],
   "source": [
    "data2 = feature_mapping(x1, x2, 6)\n",
    "# print(data2)"
   ]
  },
  {
   "cell_type": "code",
   "execution_count": 741,
   "metadata": {},
   "outputs": [
    {
     "data": {
      "text/html": [
       "<div>\n",
       "<style scoped>\n",
       "    .dataframe tbody tr th:only-of-type {\n",
       "        vertical-align: middle;\n",
       "    }\n",
       "\n",
       "    .dataframe tbody tr th {\n",
       "        vertical-align: top;\n",
       "    }\n",
       "\n",
       "    .dataframe thead th {\n",
       "        text-align: right;\n",
       "    }\n",
       "</style>\n",
       "<table border=\"1\" class=\"dataframe\">\n",
       "  <thead>\n",
       "    <tr style=\"text-align: right;\">\n",
       "      <th></th>\n",
       "      <th>F00</th>\n",
       "      <th>F10</th>\n",
       "      <th>F01</th>\n",
       "      <th>F20</th>\n",
       "      <th>F11</th>\n",
       "      <th>F02</th>\n",
       "      <th>F30</th>\n",
       "      <th>F21</th>\n",
       "      <th>F12</th>\n",
       "      <th>F03</th>\n",
       "      <th>...</th>\n",
       "      <th>F23</th>\n",
       "      <th>F14</th>\n",
       "      <th>F05</th>\n",
       "      <th>F60</th>\n",
       "      <th>F51</th>\n",
       "      <th>F42</th>\n",
       "      <th>F33</th>\n",
       "      <th>F24</th>\n",
       "      <th>F15</th>\n",
       "      <th>F06</th>\n",
       "    </tr>\n",
       "  </thead>\n",
       "  <tbody>\n",
       "    <tr>\n",
       "      <th>0</th>\n",
       "      <td>2.0</td>\n",
       "      <td>1.051267</td>\n",
       "      <td>1.69956</td>\n",
       "      <td>1.002628</td>\n",
       "      <td>0.750827</td>\n",
       "      <td>1.489384</td>\n",
       "      <td>1.000135</td>\n",
       "      <td>0.702188</td>\n",
       "      <td>0.540651</td>\n",
       "      <td>1.342354</td>\n",
       "      <td>...</td>\n",
       "      <td>0.344982</td>\n",
       "      <td>0.290764</td>\n",
       "      <td>1.167542</td>\n",
       "      <td>1.000000</td>\n",
       "      <td>0.699560</td>\n",
       "      <td>0.489391</td>\n",
       "      <td>0.342488</td>\n",
       "      <td>0.242125</td>\n",
       "      <td>0.218809</td>\n",
       "      <td>1.117206</td>\n",
       "    </tr>\n",
       "    <tr>\n",
       "      <th>1</th>\n",
       "      <td>2.0</td>\n",
       "      <td>0.907258</td>\n",
       "      <td>1.68494</td>\n",
       "      <td>1.008601</td>\n",
       "      <td>0.592198</td>\n",
       "      <td>1.469143</td>\n",
       "      <td>0.999202</td>\n",
       "      <td>0.693541</td>\n",
       "      <td>0.376401</td>\n",
       "      <td>1.321335</td>\n",
       "      <td>...</td>\n",
       "      <td>0.329936</td>\n",
       "      <td>0.127353</td>\n",
       "      <td>1.150752</td>\n",
       "      <td>1.000001</td>\n",
       "      <td>0.684933</td>\n",
       "      <td>0.469217</td>\n",
       "      <td>0.320537</td>\n",
       "      <td>0.228696</td>\n",
       "      <td>0.058010</td>\n",
       "      <td>1.103256</td>\n",
       "    </tr>\n",
       "    <tr>\n",
       "      <th>2</th>\n",
       "      <td>2.0</td>\n",
       "      <td>0.786290</td>\n",
       "      <td>1.69225</td>\n",
       "      <td>1.045672</td>\n",
       "      <td>0.478540</td>\n",
       "      <td>1.479210</td>\n",
       "      <td>0.990239</td>\n",
       "      <td>0.737922</td>\n",
       "      <td>0.265500</td>\n",
       "      <td>1.331733</td>\n",
       "      <td>...</td>\n",
       "      <td>0.377405</td>\n",
       "      <td>0.015932</td>\n",
       "      <td>1.158970</td>\n",
       "      <td>1.000095</td>\n",
       "      <td>0.691804</td>\n",
       "      <td>0.481296</td>\n",
       "      <td>0.321973</td>\n",
       "      <td>0.275314</td>\n",
       "      <td>-0.054740</td>\n",
       "      <td>1.110047</td>\n",
       "    </tr>\n",
       "    <tr>\n",
       "      <th>3</th>\n",
       "      <td>2.0</td>\n",
       "      <td>0.625000</td>\n",
       "      <td>1.50219</td>\n",
       "      <td>1.140625</td>\n",
       "      <td>0.127190</td>\n",
       "      <td>1.252195</td>\n",
       "      <td>0.947266</td>\n",
       "      <td>0.642815</td>\n",
       "      <td>-0.122805</td>\n",
       "      <td>1.126650</td>\n",
       "      <td>...</td>\n",
       "      <td>0.267275</td>\n",
       "      <td>-0.311398</td>\n",
       "      <td>1.031940</td>\n",
       "      <td>1.002781</td>\n",
       "      <td>0.494774</td>\n",
       "      <td>0.271970</td>\n",
       "      <td>0.073915</td>\n",
       "      <td>0.204227</td>\n",
       "      <td>-0.343060</td>\n",
       "      <td>1.016040</td>\n",
       "    </tr>\n",
       "    <tr>\n",
       "      <th>4</th>\n",
       "      <td>2.0</td>\n",
       "      <td>0.486750</td>\n",
       "      <td>1.46564</td>\n",
       "      <td>1.263426</td>\n",
       "      <td>-0.047610</td>\n",
       "      <td>1.216821</td>\n",
       "      <td>0.864797</td>\n",
       "      <td>0.729066</td>\n",
       "      <td>-0.296429</td>\n",
       "      <td>1.100960</td>\n",
       "      <td>...</td>\n",
       "      <td>0.364386</td>\n",
       "      <td>-0.466239</td>\n",
       "      <td>1.021890</td>\n",
       "      <td>1.018280</td>\n",
       "      <td>0.430024</td>\n",
       "      <td>0.286214</td>\n",
       "      <td>-0.034243</td>\n",
       "      <td>0.310437</td>\n",
       "      <td>-0.491360</td>\n",
       "      <td>1.010193</td>\n",
       "    </tr>\n",
       "  </tbody>\n",
       "</table>\n",
       "<p>5 rows × 28 columns</p>\n",
       "</div>"
      ],
      "text/plain": [
       "   F00       F10      F01       F20       F11       F02       F30       F21  \\\n",
       "0  2.0  1.051267  1.69956  1.002628  0.750827  1.489384  1.000135  0.702188   \n",
       "1  2.0  0.907258  1.68494  1.008601  0.592198  1.469143  0.999202  0.693541   \n",
       "2  2.0  0.786290  1.69225  1.045672  0.478540  1.479210  0.990239  0.737922   \n",
       "3  2.0  0.625000  1.50219  1.140625  0.127190  1.252195  0.947266  0.642815   \n",
       "4  2.0  0.486750  1.46564  1.263426 -0.047610  1.216821  0.864797  0.729066   \n",
       "\n",
       "        F12       F03    ...          F23       F14       F05       F60  \\\n",
       "0  0.540651  1.342354    ...     0.344982  0.290764  1.167542  1.000000   \n",
       "1  0.376401  1.321335    ...     0.329936  0.127353  1.150752  1.000001   \n",
       "2  0.265500  1.331733    ...     0.377405  0.015932  1.158970  1.000095   \n",
       "3 -0.122805  1.126650    ...     0.267275 -0.311398  1.031940  1.002781   \n",
       "4 -0.296429  1.100960    ...     0.364386 -0.466239  1.021890  1.018280   \n",
       "\n",
       "        F51       F42       F33       F24       F15       F06  \n",
       "0  0.699560  0.489391  0.342488  0.242125  0.218809  1.117206  \n",
       "1  0.684933  0.469217  0.320537  0.228696  0.058010  1.103256  \n",
       "2  0.691804  0.481296  0.321973  0.275314 -0.054740  1.110047  \n",
       "3  0.494774  0.271970  0.073915  0.204227 -0.343060  1.016040  \n",
       "4  0.430024  0.286214 -0.034243  0.310437 -0.491360  1.010193  \n",
       "\n",
       "[5 rows x 28 columns]"
      ]
     },
     "execution_count": 741,
     "metadata": {},
     "output_type": "execute_result"
    }
   ],
   "source": [
    "data2.head()"
   ]
  },
  {
   "cell_type": "raw",
   "metadata": {},
   "source": [
    "#DataFrame知识点总结\n",
    "#DataFrame具有的属性:DataFrame.shape,DataFrame.size, DataFrame.info\n",
    "#DataFrame.size = M*N\n",
    "#len(data2) = M;"
   ]
  },
  {
   "cell_type": "code",
   "execution_count": 742,
   "metadata": {},
   "outputs": [
    {
     "name": "stdout",
     "output_type": "stream",
     "text": [
      "(118, 28)\n",
      "3304\n",
      "118\n",
      "28\n"
     ]
    }
   ],
   "source": [
    "print(data2.shape)\n",
    "print(data2.size)  #M*N\n",
    "print(len(data2.iloc[:,1])) #M，第一维\n",
    "print(data2.iloc[0:1,0:].size)  #N，第二维"
   ]
  },
  {
   "cell_type": "raw",
   "metadata": {},
   "source": [
    "构造数据集"
   ]
  },
  {
   "cell_type": "code",
   "execution_count": 743,
   "metadata": {},
   "outputs": [
    {
     "data": {
      "text/plain": [
       "(118, 28)"
      ]
     },
     "execution_count": 743,
     "metadata": {},
     "output_type": "execute_result"
    }
   ],
   "source": [
    "X = np.array(data2)\n",
    "X.shape\n",
    "# type(X)\n",
    "# print(X)"
   ]
  },
  {
   "cell_type": "code",
   "execution_count": 744,
   "metadata": {},
   "outputs": [
    {
     "data": {
      "text/plain": [
       "(118, 1)"
      ]
     },
     "execution_count": 744,
     "metadata": {},
     "output_type": "execute_result"
    }
   ],
   "source": [
    "y_ = data.iloc[:,-1]\n",
    "y = np.array(y_).reshape(len(y_),1)\n",
    "y.shape"
   ]
  },
  {
   "cell_type": "raw",
   "metadata": {},
   "source": [
    "损失函数"
   ]
  },
  {
   "cell_type": "code",
   "execution_count": 745,
   "metadata": {},
   "outputs": [],
   "source": [
    "def sigmoid(z):\n",
    "    return np.exp(z) / (1 + np.exp(z))"
   ]
  },
  {
   "cell_type": "code",
   "execution_count": 746,
   "metadata": {},
   "outputs": [],
   "source": [
    "def cost_function(X, y, theta, lamda):\n",
    "    A = sigmoid(X @ theta)\n",
    "    \n",
    "    left = y * np.log(A)\n",
    "    right = (1 - y) * np.log(1 - A)\n",
    "    #代价函数中加入正则化项，防止特征弱的项带来过拟合\n",
    "    reg = np.sum(np.power(theta[1:],2) * (lamda / 2 * len(X)))\n",
    "    \n",
    "    return  -np.sum(left + right) / len(X) + reg"
   ]
  },
  {
   "cell_type": "code",
   "execution_count": 747,
   "metadata": {},
   "outputs": [
    {
     "data": {
      "text/plain": [
       "(28, 1)"
      ]
     },
     "execution_count": 747,
     "metadata": {},
     "output_type": "execute_result"
    }
   ],
   "source": [
    "theta = np.zeros((28,1))\n",
    "lamda = 1\n",
    "theta.shape"
   ]
  },
  {
   "cell_type": "code",
   "execution_count": 748,
   "metadata": {},
   "outputs": [],
   "source": [
    "cost_init = cost_function(X, y, theta, lamda)"
   ]
  },
  {
   "cell_type": "code",
   "execution_count": 749,
   "metadata": {},
   "outputs": [
    {
     "name": "stdout",
     "output_type": "stream",
     "text": [
      "0.6931471805599454\n"
     ]
    }
   ],
   "source": [
    "print(cost_init)"
   ]
  },
  {
   "cell_type": "raw",
   "metadata": {},
   "source": [
    "梯度下降函数"
   ]
  },
  {
   "cell_type": "code",
   "execution_count": 750,
   "metadata": {},
   "outputs": [],
   "source": [
    "def gradient_descent(X, y, theta, alpha, iters, lamda):\n",
    "    costs = []\n",
    "    \n",
    "    for i in range(iters):\n",
    "        reg = (lamda / len(X)) * theta[1:]\n",
    "        #插入0列为了保持维度相同\n",
    "        reg = np.insert(reg, 0, values=0, axis=0)\n",
    "        #减theta的原因暂时不明白\n",
    "        theta = theta - (X.T @ (sigmoid(X@theta) - y)) * alpha / len(X) - reg\n",
    "        cost = cost_function(X, y, theta, lamda)\n",
    "        costs.append(cost)\n",
    "    \n",
    "        if i % 10000 == 0:\n",
    "            print(cost)\n",
    "    print(reg)\n",
    "            \n",
    "    return theta, costs"
   ]
  },
  {
   "cell_type": "code",
   "execution_count": 751,
   "metadata": {},
   "outputs": [],
   "source": [
    "alpha = 0.001\n",
    "iters = 200000\n",
    "lamda = 0.01"
   ]
  },
  {
   "cell_type": "code",
   "execution_count": 752,
   "metadata": {},
   "outputs": [
    {
     "name": "stdout",
     "output_type": "stream",
     "text": [
      "0.6930800817377418\n",
      "0.9378492091063415\n",
      "1.1256779336534686\n",
      "1.1886203049248536\n",
      "1.2099843921284914\n",
      "1.2197360562023927\n",
      "1.2262941938663434\n",
      "1.231753096875773\n",
      "1.236550440380521\n",
      "1.2407522204267667\n",
      "1.2443752278042628\n",
      "1.2474517773748701\n",
      "1.2500320106584042\n",
      "1.2521752405054407\n",
      "1.2539423663472742\n",
      "1.2553911300791485\n",
      "1.256573678159345\n",
      "1.2575356330040264\n",
      "1.2583160523466932\n",
      "1.2589478630650264\n",
      "[[ 0.00000000e+00]\n",
      " [ 4.92450947e-06]\n",
      " [ 1.64789492e-05]\n",
      " [-2.65937308e-05]\n",
      " [ 2.10627221e-05]\n",
      " [-1.31258478e-05]\n",
      " [-1.46879621e-06]\n",
      " [-1.04555182e-05]\n",
      " [-8.54207492e-06]\n",
      " [-2.01314505e-06]\n",
      " [-2.00461421e-05]\n",
      " [ 1.46694164e-05]\n",
      " [-4.00603152e-05]\n",
      " [ 2.57062783e-06]\n",
      " [-1.35833030e-05]\n",
      " [-5.43936827e-06]\n",
      " [-3.90792951e-06]\n",
      " [-1.49353806e-05]\n",
      " [-2.89476125e-05]\n",
      " [-8.99953014e-06]\n",
      " [-7.09446244e-06]\n",
      " [-1.49597694e-05]\n",
      " [ 1.06988443e-05]\n",
      " [-3.35127265e-05]\n",
      " [-3.82267784e-06]\n",
      " [-4.05177704e-05]\n",
      " [-2.51068956e-06]\n",
      " [-1.25372045e-05]]\n"
     ]
    }
   ],
   "source": [
    "theta_fina,costs = gradient_descent(X, y, theta, alpha, iters, lamda)"
   ]
  },
  {
   "cell_type": "code",
   "execution_count": 753,
   "metadata": {},
   "outputs": [],
   "source": [
    "def predict(X, theta):\n",
    "    prob = sigmoid(X@theta)\n",
    "    \n",
    "    return [1 if x >= 0.5 else 0 for x in prob]"
   ]
  },
  {
   "cell_type": "code",
   "execution_count": 765,
   "metadata": {
    "scrolled": true
   },
   "outputs": [
    {
     "name": "stdout",
     "output_type": "stream",
     "text": [
      "(28, 1)\n",
      "[[ 1.04545715]\n",
      " [ 0.05810917]\n",
      " [ 0.19445156]\n",
      " [-0.31380607]\n",
      " [ 0.24854013]\n",
      " [-0.15488505]\n",
      " [-0.01733183]\n",
      " [-0.12337511]\n",
      " [-0.10079648]\n",
      " [-0.02375515]\n",
      " [-0.23654452]\n",
      " [ 0.17309913]\n",
      " [-0.47271172]\n",
      " [ 0.03033342]\n",
      " [-0.16028301]\n",
      " [-0.06418458]\n",
      " [-0.04611356]\n",
      " [-0.17623749]\n",
      " [-0.34158182]\n",
      " [-0.10619444]\n",
      " [-0.08371469]\n",
      " [-0.17652532]\n",
      " [ 0.12624638]\n",
      " [-0.39545017]\n",
      " [-0.04510758]\n",
      " [-0.47810969]\n",
      " [-0.02962612]\n",
      " [-0.14793905]]\n"
     ]
    }
   ],
   "source": [
    "print(theta_fina.shape)\n",
    "print(theta_fina)"
   ]
  },
  {
   "cell_type": "code",
   "execution_count": 755,
   "metadata": {},
   "outputs": [
    {
     "name": "stdout",
     "output_type": "stream",
     "text": [
      "0.7542372881355932\n"
     ]
    }
   ],
   "source": [
    "y_ = np.array(predict(X, theta_fina))\n",
    "y_pre = y_.reshape(len(y_), 1)\n",
    "\n",
    "acc = np.mean(y_pre==y)\n",
    "print(acc)"
   ]
  },
  {
   "cell_type": "code",
   "execution_count": 777,
   "metadata": {},
   "outputs": [
    {
     "name": "stdout",
     "output_type": "stream",
     "text": [
      "0 0\n",
      "1 0\n",
      "0 1\n",
      "2 0\n",
      "1 1\n",
      "0 2\n",
      "3 0\n",
      "2 1\n",
      "1 2\n",
      "0 3\n",
      "4 0\n",
      "3 1\n",
      "2 2\n",
      "1 3\n",
      "0 4\n",
      "5 0\n",
      "4 1\n",
      "3 2\n",
      "2 3\n",
      "1 4\n",
      "0 5\n",
      "6 0\n",
      "5 1\n",
      "4 2\n",
      "3 3\n",
      "2 4\n",
      "1 5\n",
      "0 6\n"
     ]
    },
    {
     "data": {
      "image/png": "[encoded data removed]",
      "text/plain": [
       "<Figure size 432x288 with 1 Axes>"
      ]
     },
     "metadata": {
      "needs_background": "light"
     },
     "output_type": "display_data"
    }
   ],
   "source": [
    "x = np.linspace(-1.2, 1.2, 200)  #类似于np.arange()\n",
    "#这里构造网格矩阵，就是平面上的坐标点阵列\n",
    "xx, yy = np.meshgrid(x,x)\n",
    "#训练集用的是高次幂特征\n",
    "z = feature_mapping(xx.ravel(), yy.ravel(), 6).values\n",
    "#够造高次幂的网格矩阵是因为theta_fina是由高次矩阵训练的\n",
    "zz = z @ theta_fina\n",
    "#构造成二维\n",
    "zz = zz.reshape((xx.shape))\n",
    "\n",
    "fig,ax = plt.subplots()\n",
    "ax.scatter(data[data['Accepted']==1]['T1'], data[data['Accepted']==1]['T2'], c='g', marker='o', label='Accepted')\n",
    "ax.scatter(data[data['Accepted']==0]['T1'], data[data['Accepted']==0]['T2'], c='r', marker='x', label='Unaccepted')\n",
    "ax.legend()\n",
    "ax.set(xlabel='T1',\n",
    "       ylabel='T2')\n",
    "#绘制等高线图\n",
    "plt.contour(xx,yy,zz,0)\n",
    "plt.show()\n",
    "# print(zz.shape)"
   ]
  },
  {
   "cell_type": "code",
   "execution_count": 783,
   "metadata": {},
   "outputs": [
    {
     "data": {
      "text/plain": [
       "'/home/alex/ML_exercise'"
      ]
     },
     "execution_count": 783,
     "metadata": {},
     "output_type": "execute_result"
    }
   ],
   "source": [
    "import sys,os\n",
    "os.getcwd()"
   ]
  },
  {
   "cell_type": "code",
   "execution_count": null,
   "metadata": {},
   "outputs": [],
   "source": []
  }
 ],
 "metadata": {
  "kernelspec": {
   "display_name": "Python 3",
   "language": "python",
   "name": "python3"
  },
  "language_info": {
   "codemirror_mode": {
    "name": "ipython",
    "version": 3
   },
   "file_extension": ".py",
   "mimetype": "text/x-python",
   "name": "python",
   "nbconvert_exporter": "python",
   "pygments_lexer": "ipython3",
   "version": "3.6.5"
  }
 },
 "nbformat": 4,
 "nbformat_minor": 2
}
